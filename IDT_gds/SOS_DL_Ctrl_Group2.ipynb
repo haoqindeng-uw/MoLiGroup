{
 "cells": [
  {
   "cell_type": "code",
   "execution_count": 30,
   "metadata": {},
   "outputs": [],
   "source": [
    "import numpy as np\n",
    "from math import pi\n",
    "from gdshelpers.geometry.chip import Cell\n",
    "from gdshelpers.parts.waveguide import Waveguide\n",
    "from gdshelpers.parts.coupler import GratingCoupler\n",
    "from gdshelpers.parts.resonator import RingResonator\n",
    "from gdshelpers.parts.splitter import Splitter\n",
    "from gdshelpers.layout import GridLayout\n",
    "from gdshelpers.parts.marker import CrossMarker\n",
    "from gdshelpers.parts.marker import SquareMarker\n",
    "from gdshelpers.helpers.positive_resist import convert_to_positive_resist\n",
    "from gdshelpers.parts.port import Port\n",
    "from shapely.geometry import Polygon\n",
    "from shapely.affinity import scale\n",
    "from shapely.affinity import translate\n",
    "from shapely.affinity import rotate\n",
    "from gdshelpers.geometry import geometric_union\n",
    "from gdshelpers.helpers.under_etching import create_holes_for_under_etching\n",
    "from gdshelpers.geometry.ebl_frame_generators import raith_marker_frame\n",
    "from gdshelpers.parts.text import Text\n",
    "from shapely.geometry import Point\n",
    "import math"
   ]
  },
  {
   "cell_type": "code",
   "execution_count": 2,
   "metadata": {},
   "outputs": [
    {
     "data": {
      "text/plain": [
       "<module 'make_SOS_Optomechanic_Rings_bend_Input_acoustic' from '/Users/haoqindeng/Desktop/Qtransduction/IDT_gds/make_SOS_Optomechanic_Rings_bend_Input_acoustic.py'>"
      ]
     },
     "execution_count": 2,
     "metadata": {},
     "output_type": "execute_result"
    }
   ],
   "source": [
    "# Import help functions written by I-Tung\n",
    "import importlib\n",
    "import make_displaced_IDT_pair\n",
    "importlib.reload(make_displaced_IDT_pair)\n",
    "import make_zno_pad\n",
    "importlib.reload(make_zno_pad)\n",
    "import make_SOS_Optomechanic_Rings_bend_Input_acoustic\n",
    "importlib.reload(make_SOS_Optomechanic_Rings_bend_Input_acoustic)"
   ]
  },
  {
   "cell_type": "code",
   "execution_count": 3,
   "metadata": {},
   "outputs": [],
   "source": [
    "# Parameters to change\n",
    "\n",
    "# The vertical displacement distance between the two IDT (left with respect to right)\n",
    "y_displacement_for_IDT = -50 #um\n",
    "y_displacement_for_IDT = 0 #um\n",
    "\n",
    "# sweep 1 is designated to the acoustic coupling gap\n",
    "sweep1 = 0.1 #um\n",
    "\n",
    "# sweep 2 is designated to the acoustic waveguide propagation length\n",
    "sweep2 = 1000 #um"
   ]
  },
  {
   "cell_type": "markdown",
   "metadata": {},
   "source": [
    "# Caution:\n",
    "Below codes are functions with prefixed parameters, so only change when neccessary."
   ]
  },
  {
   "cell_type": "code",
   "execution_count": 142,
   "metadata": {},
   "outputs": [
    {
     "name": "stdout",
     "output_type": "stream",
     "text": [
      "[(-763.6, -8), (-763.6, -3), (-955.6, -3), (-955.6, -8)]\n",
      "[(-763.6, 17.5), (-763.6, 12.5), (-955.6, 12.5), (-955.6, 17.5)]\n",
      "[(-86.4, -8), (-86.4, -3), (105.6, -3), (105.6, -8)]\n",
      "[(-86.4, 17.5), (-86.4, 12.5), (105.6, 12.5), (105.6, 17.5)]\n",
      "y_mid_IDT  9.75\n",
      "top_right_x  101.6\n",
      "shift_2  96.0\n",
      "left_x_coor_TR  -763.6\n",
      "left_y_coor_TR  12.5\n",
      "right_top_small_pad_TL_X  -86.4\n",
      "right_top_small_pad_TL_Y 19.5\n",
      "[[(-763.6, -8), (-763.6, -3), (-955.6, -3), (-955.6, -8)], [(-763.6, 17.5), (-763.6, 12.5), (-955.6, 12.5), (-955.6, 17.5)], [(-86.4, -8), (-86.4, -3), (105.6, -3), (105.6, -8)], [(-86.4, 17.5), (-86.4, 12.5), (105.6, 12.5), (105.6, 17.5)]]\n"
     ]
    }
   ],
   "source": [
    "#Make the IDT fingers\n",
    "\n",
    "# Modified from for the BGaP OMR paper (before 2023-04-17): figer_widths=0.5017, number_of_pairs=80, IDT_Aperature=15, prop_length=200+160+300+200\n",
    "# New parameters for Si-on-sapphire substrates (2023-04-20): figer_widths=0.25, number_of_pairs=65, IDT_Aperature=100, prop_length=sweep1\n",
    "# Note on prop length, for rings the proplength needs to be longer add 500 instead of 300: 200+160+300 to ACWG_ONLY:200+160+300 RR:200+160+500 , MZI 200+160+200 , ORR_BENT = 200+160+300\n",
    "# Figer_width = 1/4 of acoustic wavelength\n",
    "prop_len = 200\n",
    "IDT_1, IDT_1_bigpad, \\\n",
    "IDT_2, IDT_2_bigpad, \\\n",
    "top_right_x, y_mid_IDT, shift_2, \\\n",
    "right_top_small_pad_TL_X, right_top_small_pad_TL_Y,\\\n",
    "left_x_coord_TR, left_y_coord_TR, port_coordinates = make_displaced_IDT_pair.make_displaced_IDT_pairs(figer_widths=0.45, number_of_pairs=80,\n",
    "                                                                    IDT_Aperature=15, prop_length= 200+300+100+50+prop_len, y_displacement= y_displacement_for_IDT)\n",
    "# For 2.5 GHz IDT, 1/4 wavelength = 0.45 um\n",
    "print('y_mid_IDT ', y_mid_IDT)\n",
    "print('top_right_x ', top_right_x)\n",
    "print('shift_2 ', shift_2)\n",
    "print('left_x_coor_TR ', left_x_coord_TR)\n",
    "print('left_y_coor_TR ', left_y_coord_TR)\n",
    "print('right_top_small_pad_TL_X ', right_top_small_pad_TL_X)\n",
    "print('right_top_small_pad_TL_Y', right_top_small_pad_TL_Y)\n",
    "print(port_coordinates)\n",
    "wg_right_org_x = top_right_x\n",
    "wg_right_org_y = (port_coordinates[0][1][1] + port_coordinates[1][1][1]) / 2 + + 150\n",
    "wg_right_width = 15\n",
    "wg_right_len = 172.8\n",
    "\n",
    "wg_left_org_x = -751.6 - prop_len\n",
    "wg_left_org_y = (port_coordinates[0][1][1] + port_coordinates[1][1][1]) / 2\n",
    "wg_left_width = 15\n",
    "wg_left_len = 172.8\n",
    "\n",
    "\n",
    "wg_taper_width = 1.2\n",
    "wg_taper_len = 100\n",
    "\n",
    "wg_right = Waveguide.make_at_port(Port(origin=(wg_right_org_x, wg_right_org_y), angle=np.pi, width=wg_right_width))\n",
    "wg_right.add_straight_segment(length=wg_right_len)\n",
    "wg_right.add_straight_segment(length=wg_taper_len, final_width=wg_taper_width)\n",
    "wg_right.add_straight_segment(70)\n",
    "\n",
    "wg_left = Waveguide.make_at_port(Port(origin=(wg_left_org_x, wg_left_org_y), angle=0, width=wg_left_width))\n",
    "wg_left.add_straight_segment(length=wg_left_len)\n",
    "wg_left.add_straight_segment(length=wg_taper_len, final_width=wg_taper_width)\n",
    "\n",
    "radius = 250\n",
    "alpha = np.pi/4\n",
    "len_c = (150 - (radius - radius * math.cos(alpha)) * 2) / math.cos(alpha)\n",
    "wg_left.add_straight_segment(90)\n",
    "wg_left.add_arc(final_angle=(alpha), radius=radius)\n",
    "wg_left.add_straight_segment(length=len_c)\n",
    "wg_left.add_arc(final_angle=(0), radius=radius)\n",
    "wg_left.add_straight_segment(160)\n",
    "\n",
    "# wg_right = translate(wg_right, yoff=150)\n",
    "\n",
    "IDT_3 = IDT_1\n",
    "IDT_1 = translate(IDT_1, yoff=150)\n",
    "IDT_3 = translate(IDT_3, yoff=-150)\n",
    "\n",
    "IDT_3_bigpad = IDT_1_bigpad\n",
    "IDT_1_bigpad = translate(IDT_1_bigpad, yoff=150)\n",
    "IDT_3_bigpad = translate(IDT_3_bigpad, yoff=-150)\n",
    "\n",
    "IDT_layer = geometric_union([IDT_1, IDT_2, IDT_3])\n",
    "IDT_pad_layer = geometric_union([IDT_1_bigpad, IDT_2_bigpad, IDT_3_bigpad])\n",
    "aco_wg_layer = geometric_union([wg_left, wg_right])\n",
    "\n",
    "# use top_right_x\n"
   ]
  },
  {
   "cell_type": "code",
   "execution_count": 143,
   "metadata": {},
   "outputs": [
    {
     "data": {
      "image/png": "[encoded data removed]",
      "text/plain": [
       "<Figure size 640x480 with 1 Axes>"
      ]
     },
     "metadata": {},
     "output_type": "display_data"
    }
   ],
   "source": [
    "# Make ZnO pads\n",
    "ZnO_pad_R, ZnO_pad_L = make_zno_pad.make_ZnO_pads(zno_pad_x_length=350,\n",
    "                        right_top_small_pad_TL_X = right_top_small_pad_TL_X,\n",
    "                        right_top_small_pad_TL_Y= right_top_small_pad_TL_Y,\n",
    "                                    pad_width = 90+10,\n",
    "                                    left_x_coord_TR =left_x_coord_TR)\n",
    "# cell = Cell('IDT_test2')\n",
    "# ZnO pads (with buffer)\n",
    "ZnO_pad_R2 = ZnO_pad_R\n",
    "ZnO_pad_R = translate(ZnO_pad_R, yoff=150)\n",
    "ZnO_pad_R2 = translate(ZnO_pad_R2, yoff=-150)\n",
    "One_side_ZnO_under_pads = geometric_union([ZnO_pad_L, ZnO_pad_R, ZnO_pad_R2, IDT_1_bigpad, IDT_2_bigpad, IDT_3_bigpad])\n",
    "One_side_ZnO_under_pads = One_side_ZnO_under_pads.buffer(6)\n",
    "\n",
    "cell = Cell('IDT_test2')\n",
    "cell.add_to_layer(1, convert_to_positive_resist( [aco_wg_layer],  buffer_radius=10))\n",
    "cell.add_to_layer(4, IDT_pad_layer)\n",
    "cell.add_to_layer(3, IDT_layer)\n",
    "cell.add_to_layer(2, One_side_ZnO_under_pads)\n",
    "\n",
    "\n",
    "cell.show()\n",
    "cell.save('IDT_GDS/IDT_bent_r250')"
   ]
  },
  {
   "cell_type": "code",
   "execution_count": 171,
   "metadata": {},
   "outputs": [
    {
     "name": "stderr",
     "output_type": "stream",
     "text": [
      "/opt/miniconda3/envs/torch/lib/python3.9/site-packages/gdshelpers/geometry/shapely_adapter.py:116: ShapelyDeprecationWarning: Setting custom attributes on geometry objects is deprecated, and will raise an AttributeError in Shapely 2.0\n",
      "  poly._gdsh_n_points = len(poly.exterior.coords) + sum([len(shapely.geometry.LinearRing(x).coords) for x\n"
     ]
    }
   ],
   "source": [
    "from CM_basic_code import trench\n",
    "from CM_basic_code import write_label\n",
    "cell = Cell('Frame')\n",
    "frame_x_len = 11500\n",
    "frame_y_len = 14000\n",
    "center_y = 1\n",
    "\n",
    "trench(center_x=frame_x_len/2, center_y=0.5, length=frame_x_len, width=1, layer=1, cell_name=cell)\n",
    "trench(center_x=0.5, center_y=frame_y_len/2, length=1, width=frame_y_len, layer=1, cell_name=cell)\n",
    "trench(center_x=frame_x_len/2, center_y=frame_y_len-0.5, length=frame_x_len, width=1, layer=1, cell_name=cell)\n",
    "trench(center_x=frame_x_len-0.5, center_y=frame_y_len/2, length=1, width=frame_y_len, layer=1, cell_name=cell)\n",
    "\n",
    "cell.save('IDT_GDS/frame.gds')"
   ]
  },
  {
   "cell_type": "code",
   "execution_count": 51,
   "metadata": {},
   "outputs": [],
   "source": [
    "# Make Optomechanic RingRes bending inputs\n",
    "# To control if optical WG is included, modified the function inside \"make_Optomechanic_Rings_bend_Input_acoustic\"\n",
    "OM_Ring, op_wg_right, Aco_wg, delta_y, tapered_coord_right, tapered_coord_left, \\\n",
    "acoustic_bent_radius, ac_bend_angle_rad, y0_bend, y0_og, ring_origin = make_SOS_Optomechanic_Rings_bend_Input_acoustic.make_Optomechanic_Ring_bend(init_width=15,\n",
    "                                                                                            fin_width=1.2,\n",
    "                                                                                            prop_length= sweep2 ,#200 - 5 + 300,\n",
    "                                                                                            # For rings the proplength needs to be longer :500\n",
    "                                                                                            tapered_length=100,\n",
    "                                                                                            top_right_x=top_right_x - 15,\n",
    "                                                                                            # -15 is to align the bent waveguide\n",
    "                                                                                            y_mid_IDT=y_mid_IDT,\n",
    "                                                                                            L_IDT_area=shift_2,\n",
    "                                                                                            aco_Gap = sweep1,\n",
    "                                                                                            op_Gap=0.07,\n",
    "                                                                                            ring_radius = 50,\n",
    "                                                                                            y_displacement= y_displacement_for_IDT)\n",
    "\n"
   ]
  },
  {
   "cell_type": "code",
   "execution_count": 52,
   "metadata": {},
   "outputs": [],
   "source": [
    "# Align the IDT and the acoustic waveguide\n",
    "# Right IDT\n",
    "IDT_1 = translate(IDT_1, xoff= tapered_coord_right[0] - top_right_x)\n",
    "IDT_1_bigpad = translate(IDT_1_bigpad, xoff= tapered_coord_right[0] - top_right_x)\n",
    "ZnO_pad_R = translate(ZnO_pad_R, xoff= tapered_coord_right[0] - top_right_x)\n",
    "\n",
    "# Left IDT\n",
    "IDT_2 = translate(IDT_2, xoff= tapered_coord_left[0] - left_x_coord_TR, yoff = tapered_coord_left[1] - y0_bend)\n",
    "IDT_2_bigpad = translate(IDT_2_bigpad, xoff= tapered_coord_left[0] - left_x_coord_TR, yoff = tapered_coord_left[1]- y0_bend)\n",
    "ZnO_pad_L = translate(ZnO_pad_L, xoff= tapered_coord_left[0] - left_x_coord_TR, yoff = tapered_coord_left[1]- y0_bend)\n",
    "\n",
    "# ZnO pads (with buffer)\n",
    "One_side_ZnO_under_pads = geometric_union([ZnO_pad_L, ZnO_pad_R, IDT_1_bigpad, IDT_2_bigpad])\n",
    "One_side_ZnO_under_pads = One_side_ZnO_under_pads.buffer(6)"
   ]
  },
  {
   "cell_type": "code",
   "execution_count": 53,
   "metadata": {},
   "outputs": [],
   "source": [
    "# toogle on/off the accomodate for bent acoustic waveguide\n",
    "accomodatae_for_bent_acoustic_wg = True\n",
    "if accomodatae_for_bent_acoustic_wg == True:\n",
    "    \"\"\"ACCOMMODATE FOR BENT ACOUSTIC WG, COMMENT OUT IF NOT USING BENT AC WG\"\"\"\n",
    "    bent_radius = acoustic_bent_radius\n",
    "    y_delta_by_bending = bent_radius*(1-np.cos(ac_bend_angle_rad))\n",
    "\n",
    "    shift_ring1 = y0_bend- y0_og\n",
    "    shift_ring2 = y0_og - y_mid_IDT\n",
    "\n",
    "    OM_Ring = translate(OM_Ring, yoff = -shift_ring1 + 5.3 - 0.55) #0.55 is a arbitrary number to shift the ring\n"
   ]
  },
  {
   "cell_type": "code",
   "execution_count": 54,
   "metadata": {},
   "outputs": [
    {
     "name": "stdout",
     "output_type": "stream",
     "text": [
      "The ring center coordinate is at:  [-943.4  -51.3]\n"
     ]
    }
   ],
   "source": [
    "cell_name = '01'\n",
    "cell = Cell('SIMPLE_RES_DEVICE r={:.4f} g={:.4f}'.format(sweep1, sweep2))\n",
    "\n",
    "# Add name to cell\n",
    "text = Text(origin=[ top_right_x - sweep2, -65], height=20, text=str(cell_name), alignment='left-bottom')\n",
    "# Add the parts to the cell\n",
    "cell.add_to_layer(1, convert_to_positive_resist( [OM_Ring],  buffer_radius=10), text)\n",
    "cell.add_to_layer(2, One_side_ZnO_under_pads)\n",
    "cell.add_to_layer(3, IDT_1, IDT_2)\n",
    "cell.add_to_layer(4, IDT_1_bigpad, IDT_2_bigpad)\n",
    "\n",
    "print('The ring center coordinate is at: ', ring_origin)"
   ]
  },
  {
   "cell_type": "code",
   "execution_count": 55,
   "metadata": {},
   "outputs": [
    {
     "name": "stderr",
     "output_type": "stream",
     "text": [
      "/opt/miniconda3/envs/torch/lib/python3.9/site-packages/descartes/patch.py:64: ShapelyDeprecationWarning: The array interface is deprecated and will no longer work in Shapely 2.0. Convert the '.coords' to a numpy array instead.\n",
      "  [asarray(r)[:, :2] for r in t.interiors])\n"
     ]
    },
    {
     "data": {
      "image/png": "[encoded data removed]",
      "text/plain": [
       "<Figure size 640x480 with 1 Axes>"
      ]
     },
     "metadata": {},
     "output_type": "display_data"
    }
   ],
   "source": [
    "# Generate and show the layout\n",
    "layout_name = 'SOS_layout_HQ'\n",
    "layout = GridLayout(title=layout_name, frame_layer=0, text_layer=3, region_layer_type=None,\n",
    "                        horizontal_spacing= -25, vertical_spacing= -75)\n",
    "layout.begin_new_row('01')\n",
    "layout.add_to_row(cell)\n",
    "layout_cell, mapping = layout.generate_layout()\n",
    "layout_cell.show()"
   ]
  },
  {
   "cell_type": "code",
   "execution_count": 56,
   "metadata": {},
   "outputs": [
    {
     "name": "stderr",
     "output_type": "stream",
     "text": [
      "/opt/miniconda3/envs/torch/lib/python3.9/site-packages/gdshelpers/geometry/shapely_adapter.py:116: ShapelyDeprecationWarning: Setting custom attributes on geometry objects is deprecated, and will raise an AttributeError in Shapely 2.0\n",
      "  poly._gdsh_n_points = len(poly.exterior.coords) + sum([len(shapely.geometry.LinearRing(x).coords) for x\n"
     ]
    }
   ],
   "source": [
    "layout_cell.save('test1.gds')"
   ]
  }
 ],
 "metadata": {
  "kernelspec": {
   "display_name": "base",
   "language": "python",
   "name": "python3"
  },
  "language_info": {
   "codemirror_mode": {
    "name": "ipython",
    "version": 3
   },
   "file_extension": ".py",
   "mimetype": "text/x-python",
   "name": "python",
   "nbconvert_exporter": "python",
   "pygments_lexer": "ipython3",
   "version": "3.9.13"
  },
  "orig_nbformat": 4
 },
 "nbformat": 4,
 "nbformat_minor": 2
}
