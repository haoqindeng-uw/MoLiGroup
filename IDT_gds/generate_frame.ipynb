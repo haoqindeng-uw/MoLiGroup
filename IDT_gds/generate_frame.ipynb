{
 "cells": [
  {
   "cell_type": "code",
   "execution_count": 2,
   "metadata": {},
   "outputs": [],
   "source": [
    "import importlib\n",
    "import CM_basic_code\n",
    "importlib.reload(CM_basic_code)\n",
    "\n",
    "cell = CM_basic_code.generate_frame(x_len=14000, y_len=9000, frame_width=1, mark_len=50, mark_width=5)\n",
    "cell.save('Frame/frame.gds')"
   ]
  }
 ],
 "metadata": {
  "kernelspec": {
   "display_name": "torch",
   "language": "python",
   "name": "python3"
  },
  "language_info": {
   "codemirror_mode": {
    "name": "ipython",
    "version": 3
   },
   "file_extension": ".py",
   "mimetype": "text/x-python",
   "name": "python",
   "nbconvert_exporter": "python",
   "pygments_lexer": "ipython3",
   "version": "3.9.13"
  }
 },
 "nbformat": 4,
 "nbformat_minor": 2
}
