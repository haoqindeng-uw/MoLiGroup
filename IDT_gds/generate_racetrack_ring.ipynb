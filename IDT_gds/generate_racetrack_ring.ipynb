{
 "cells": [
  {
   "cell_type": "code",
   "execution_count": 15,
   "metadata": {},
   "outputs": [
    {
     "data": {
      "text/plain": [
       "<module 'aco_components1' from '/Users/haoqindeng/Desktop/MoLiGroup/IDT_gds/aco_components1.py'>"
      ]
     },
     "execution_count": 15,
     "metadata": {},
     "output_type": "execute_result"
    }
   ],
   "source": [
    "import numpy as np\n",
    "from math import pi\n",
    "from gdshelpers.geometry.chip import Cell\n",
    "from gdshelpers.parts.waveguide import Waveguide\n",
    "from gdshelpers.parts.coupler import GratingCoupler\n",
    "from gdshelpers.parts.resonator import RingResonator\n",
    "from gdshelpers.parts.splitter import Splitter\n",
    "from gdshelpers.layout import GridLayout\n",
    "from gdshelpers.parts.marker import CrossMarker\n",
    "from gdshelpers.parts.marker import SquareMarker\n",
    "from gdshelpers.helpers.positive_resist import convert_to_positive_resist\n",
    "from gdshelpers.parts.port import Port\n",
    "from shapely.geometry import Polygon\n",
    "from shapely.affinity import scale\n",
    "from shapely.affinity import translate\n",
    "from shapely.affinity import rotate\n",
    "from gdshelpers.geometry import geometric_union\n",
    "from gdshelpers.helpers.under_etching import create_holes_for_under_etching\n",
    "from gdshelpers.geometry.ebl_frame_generators import raith_marker_frame\n",
    "from gdshelpers.parts.text import Text\n",
    "from shapely.geometry import Point\n",
    "import importlib\n",
    "import aco_components1\n",
    "importlib.reload(aco_components1)"
   ]
  },
  {
   "cell_type": "code",
   "execution_count": 198,
   "metadata": {},
   "outputs": [],
   "source": [
    "# cell = Cell('racetrack')\n",
    "# cell = aco_components.make_racetrack_ring(cell, te0_width=1.2, te2_width=1.2, racetrack_width=1.2,\n",
    "#                                           te0_gap=0.085, te2_gap=0.085, offset=(200, 200))\n",
    "# cell.save('IDT_library_GDS/racetrack.gds')"
   ]
  },
  {
   "cell_type": "code",
   "execution_count": 200,
   "metadata": {},
   "outputs": [],
   "source": [
    "# cell.save('IDT_library_GDS/racetrack_te2.gds')"
   ]
  },
  {
   "cell_type": "code",
   "execution_count": 20,
   "metadata": {},
   "outputs": [
    {
     "data": {
      "image/png": "[encoded data removed]",
      "text/plain": [
       "<Figure size 640x480 with 1 Axes>"
      ]
     },
     "metadata": {},
     "output_type": "display_data"
    }
   ],
   "source": [
    "cell = Cell('racetrack')\n",
    "pos_x = 0\n",
    "pos_y = 0\n",
    "# te0_coupling_len_list = [6, 8, 10, 12, 14, 16, 18, 20, 22, 24]\n",
    "\n",
    "te0_coupling_len_list = [5, 10, 15, 20, 30, 40, 50, 60, 70, 80, 90]\n",
    "# te0_coupling_len_list = [100, 110, 120, 130, 140, 150, 160, 170, 180, 190, 200]\n",
    "for te0_coupling_len in te0_coupling_len_list:\n",
    "    pos_y += 300\n",
    "    cell = aco_components1.make_racetrack_ring(cell, te0_width=1.2, te2_width=1.2, racetrack_width=1.2,\n",
    "                                              te0_coupling_len=te0_coupling_len, te2_coupling_len=te0_coupling_len, racetrack_len=200,\n",
    "                                          te0_gap=0.09, te2_gap=0.09, offset=(pos_x, pos_y))\n",
    "\n",
    "pos_x = 350\n",
    "pos_y = 0\n",
    "te0_coupling_len_list = [100, 110, 120, 130, 140, 150, 160, 170, 180, 190, 200]\n",
    "for te0_coupling_len in te0_coupling_len_list:\n",
    "    pos_y += 300\n",
    "    cell = aco_components1.make_racetrack_ring(cell, te0_width=1.2, te2_width=1.2, racetrack_width=1.2,\n",
    "                                              te0_coupling_len=te0_coupling_len, te2_coupling_len=te0_coupling_len, racetrack_len=200,\n",
    "                                          te0_gap=0.09, te2_gap=0.09, offset=(pos_x, pos_y))\n",
    "cell.show()\n",
    "# cell.save('IDT_library_GDS/rc_col1.gds')"
   ]
  },
  {
   "cell_type": "code",
   "execution_count": 21,
   "metadata": {},
   "outputs": [],
   "source": [
    "cell.save('IDT_library_GDS/rc_v1.13.gds')"
   ]
  },
  {
   "cell_type": "code",
   "execution_count": 228,
   "metadata": {},
   "outputs": [],
   "source": [
    "cell = Cell('racetrack')\n",
    "pos_x = 0\n",
    "pos_y = 0\n",
    "# te0_coupling_len_list = [6, 8, 10, 12, 14, 16, 18, 20, 22, 24]\n",
    "\n",
    "te0_coupling_len_list = [10, 20, 30, 40, 50, 60, 70, 80, 90, 100]\n",
    "# te0_coupling_len_list = [110, 120, 130, 140, 150, 160, 170, 180, 190, 200]\n",
    "for te0_coupling_len in te0_coupling_len_list:\n",
    "    pos_y += 350\n",
    "    cell = aco_components.make_racetrack_ring(cell, te0_width=1.2, te2_width=1.2, racetrack_width=1.2,\n",
    "                                              te0_coupling_len=te0_coupling_len, te2_coupling_len=te0_coupling_len, racetrack_len=200,\n",
    "                                          te0_gap=0.08, te2_gap=0.07, offset=(pos_x, pos_y))\n",
    "# cell.show()\n",
    "cell.save('IDT_library_GDS/racetrack_te0_gap=0.07_col2.gds')"
   ]
  },
  {
   "cell_type": "code",
   "execution_count": 229,
   "metadata": {},
   "outputs": [],
   "source": [
    "import string\n",
    "coupler1_params = {\n",
    "    'width': 0.39,\n",
    "    'full_opening_angle': np.deg2rad(40),  # 40\n",
    "    'grating_period': 0.7,\n",
    "    'grating_ff': 0.85,  # minigap = 30nm\n",
    "    # 'ap_max_ff':0.85,\n",
    "    'ap_max_ff':0.99,\n",
    "    'n_gratings': 20,  # 20\n",
    "    'taper_length': 16,  # 16um\n",
    "    'n_ap_gratings': 20,  # 20\n",
    "}\n",
    "def te0_te0_directional_coupler_straight(start_x: int, start_y: int, cell: Cell, coupler_params: dict, \n",
    "                            gap: float, coupling_len: float, te0_wg_width: float, te2_wg_width: float, radius=60,\n",
    "                            ring_r = 50, ring_coupling_len = 20, ring_gap = 0.07, inversion=False,\n",
    "                            cell_name = 'dummy', measure_offset = 50):\n",
    "\n",
    "    cell = Cell(cell_name)\n",
    "    # coupler1_params['width'] = te0_wg_width\n",
    "    gap01 = gap + te0_wg_width/2 + te2_wg_width/2\n",
    "    gc1 = GratingCoupler.make_traditional_coupler(origin=(start_x + 250, start_y), **coupler_params)\n",
    "    wg1 = Waveguide.make_at_port(gc1.port)\n",
    "    wg1.add_straight_segment(length=measure_offset)\n",
    "    wg1.add_arc(radius=radius, final_angle=0)\n",
    "    wg1.add_straight_segment(length=coupling_len)\n",
    "    pos1 = wg1.port.origin\n",
    "    wg1.add_arc(radius=radius, final_angle=(-pi/2))\n",
    "    wg1.add_straight_segment(length=30)\n",
    "    wg1.add_straight_segment(length=20, final_width=0.0000001)\n",
    "\n",
    "    # gc2 = GratingCoupler.make_traditional_coupler(origin=(start_x + 750, start_y), **coupler_params)\n",
    "    # wg2 = Waveguide.make_at_port(gc2.port)\n",
    "    # wg2.add_straight_segment(length=measure_offset)\n",
    "    # wg2.add_arc(radius=radius, final_angle=pi)\n",
    "    # wg2.add_straight_segment(length=coupling_len)\n",
    "    # wg2.add_arc(radius=radius, final_angle=(-pi/2))\n",
    "    # wg2.add_straight_segment(length=30)\n",
    "    # wg2.add_straight_segment(length=20, final_width=0.0000001)\n",
    "\n",
    "    offset_len = measure_offset + gap01\n",
    "    gc0 = GratingCoupler.make_traditional_coupler(origin=(start_x, start_y), **coupler_params)\n",
    "    wg0 = Waveguide.make_at_port(gc0.port)\n",
    "    wg0.add_straight_segment(length=offset_len)\n",
    "    wg0.add_arc(radius=radius, final_angle=0)\n",
    "    wg0.add_straight_segment(length=10)\n",
    "    wg0.add_straight_segment(length=30, final_width=te2_wg_width)\n",
    "    wg0.add_straight_segment(length=100)\n",
    "\n",
    "\n",
    "    r_out = ring_r + te2_wg_width + gap\n",
    "    alpha = 0.5 * ring_coupling_len / r_out\n",
    "    print('alpha: ', alpha)\n",
    "\n",
    "    # wg0.add_arc(radius=60, final_angle=(-alpha))\n",
    "    # wg0.add_arc(radius=r_out, final_angle=0)\n",
    "    pos2 = wg0.port.origin\n",
    "    ring_pos_x = pos2[0]\n",
    "    ring_pos_y = pos2[1] + te2_wg_width + ring_gap\n",
    "    # # print(pos2)\n",
    "    # # print(gap)\n",
    "    # wg0.add_arc(radius=r_out, final_angle=alpha)\n",
    "    # wg0.add_arc(radius=radius, final_angle=0)\n",
    "    wg0.add_straight_segment(length=ring_coupling_len)\n",
    "    wg0.add_arc(radius=radius, final_angle=(-pi/2))\n",
    "    wg0.add_straight_segment(length=20)\n",
    "    wg0.add_straight_segment(length=30, final_width=0.0001)\n",
    "\n",
    "    ring = Waveguide.make_at_port(Port((ring_pos_x, ring_pos_y), angle=0, width=te2_wg_width))\n",
    "    ring.add_straight_segment(length=ring_coupling_len)\n",
    "    ring.add_arc(radius=ring_r, final_angle=pi/2)\n",
    "    ring.add_straight_segment(length=20)\n",
    "    ring.add_arc(radius=radius, final_angle=0)\n",
    "    ring.add_straight_segment(length=120)\n",
    "    # ring.add_arc(radius=ring_r, final_angle=(-pi))\n",
    "    # ring.add_arc(radius=ring_r, final_angle=(-pi/2))\n",
    "    # ring.add_arc(radius=ring_r, final_angle=0)\n",
    "    ring_out_pos_y = ring.port.origin[1]\n",
    "\n",
    "    ring2 = Waveguide.make_at_port(Port((ring_pos_x, ring_pos_y), angle=(-pi), width=te2_wg_width))\n",
    "    ring2.add_arc(radius=50, final_angle=pi/2)\n",
    "    ring2.add_straight_segment(length=20)\n",
    "    ring2.add_straight_segment(length=30, final_width=0.0001)\n",
    "\n",
    "\n",
    "    \n",
    "\n",
    "    ring_center = [ring_pos_x, ring_pos_y + ring_r]\n",
    "    \n",
    "\n",
    "    gc3 = GratingCoupler.make_traditional_coupler(origin=(start_x + 750, start_y), **coupler_params)\n",
    "    wg3 = Waveguide.make_at_port(gc3.port)\n",
    "    wg3.add_straight_segment(length=(ring_out_pos_y-radius))\n",
    "    wg3.add_arc(radius=radius, final_angle=(-pi))\n",
    "    wg3.add_straight_segment(length=10)\n",
    "    wg3.add_straight_segment(length=30, final_width=te2_wg_width)\n",
    "    wg3.add_straight_segment(length=550-radius*3-120-ring_coupling_len+20)\n",
    "\n",
    "    ring_total = None\n",
    "    if inversion:\n",
    "        ring_total = geometric_union([gc0, gc1, gc3, wg0, wg1, wg3, ring, ring2])\n",
    "        ring_total = scale(geom=ring_total, yfact=-1, origin=(0, 0, 0))\n",
    "        # ring_total = translate(ring_total, xoff=1, yoff=1)\n",
    "        cell.add_to_layer(4, ring_total)\n",
    "        ring_center = [ring_pos_x, -(ring_pos_y + ring_r)]\n",
    "    else:\n",
    "        # cell.add_to_layer(4, gc0, gc1, gc2, gc3, wg0, wg1, wg2, wg3, ring)\n",
    "        cell.add_to_layer(1, convert_to_positive_resist([gc0, gc3, wg0, wg3, ring, ring2], buffer_radius=5))\n",
    "        \n",
    "    # cell.add_to_layer(5, gc0, gc1, gc2, gc3, wg0, wg1, wg2, wg3)\n",
    "    return cell, ring_center, ring_total\n",
    "\n",
    "# cell, _, _ = te0_te0_directional_coupler_straight(start_x=0, start_y=0, cell=cell, coupler_params=coupler1_params,\n",
    "#                             gap=gap, coupling_len=20, te0_wg_width=te0_wg_width, te2_wg_width=te2_wg_width, \n",
    "#                             ring_r=50, ring_coupling_len=50, ring_gap=ring_gap)\n",
    "# cell.show()"
   ]
  },
  {
   "cell_type": "code",
   "execution_count": 222,
   "metadata": {},
   "outputs": [
    {
     "name": "stdout",
     "output_type": "stream",
     "text": [
      "alpha:  0.19498878814468168\n",
      "alpha:  0.38997757628936336\n",
      "alpha:  0.584966364434045\n",
      "alpha:  0.7799551525787267\n",
      "alpha:  0.9749439407234083\n",
      "alpha:  1.16993272886809\n",
      "alpha:  1.3649215170127718\n",
      "alpha:  1.5599103051574534\n",
      "alpha:  1.754899093302135\n",
      "alpha:  1.9498878814468166\n",
      "alpha:  2.1448766695914983\n"
     ]
    },
    {
     "data": {
      "image/png": "[encoded data removed]",
      "text/plain": [
       "<Figure size 432x288 with 1 Axes>"
      ]
     },
     "metadata": {
      "needs_background": "light"
     },
     "output_type": "display_data"
    }
   ],
   "source": [
    "# import string\n",
    "letters = string.ascii_uppercase\n",
    "gap = 0.085\n",
    "ring_gap = 0.07\n",
    "coupling_len = 11 \n",
    "te0_wg_width = 0.39\n",
    "te2_wg_width = 1.2\n",
    "coupling_len_sweep = [14]\n",
    "ring_coupling_len_sweep1 = [20, 40, 60, 80, 100, 120, 140, 160, 180, 200, 220]\n",
    "# coupling_len_sweep = [14, 16, 18]\n",
    "# ring_coupling_len_sweep1 = [20, 30]\n",
    "layout_name = 'SOS_layout_dc'\n",
    "layout = GridLayout(title='', frame_layer=0, text_layer=3, region_layer_type=None,\n",
    "                        horizontal_spacing= 0, vertical_spacing=0)\n",
    "for i in range(len(ring_coupling_len_sweep1)):\n",
    "    layout.begin_new_row('row_' + str(i))\n",
    "    for j in range(len(coupling_len_sweep)):\n",
    "        cell_name = str(j) + letters[i]\n",
    "        ring_coupling_len = ring_coupling_len_sweep1[i]\n",
    "        coupling_len = coupling_len_sweep[j]\n",
    "        \n",
    "        cell, ring_center, ring_total = te0_te0_directional_coupler_straight(start_x=0, start_y=0, cell=cell, coupler_params=coupler1_params,\n",
    "                       gap=gap, coupling_len=coupling_len, te0_wg_width=te0_wg_width, te2_wg_width=te2_wg_width, ring_coupling_len=ring_coupling_len, ring_gap=ring_gap,\n",
    "                       inversion=False, cell_name=cell_name)\n",
    "        layout.add_to_row(cell)\n",
    "        \n",
    "layout_cell, mapping = layout.generate_layout()\n",
    "layout_cell.show()\n"
   ]
  },
  {
   "cell_type": "code",
   "execution_count": 224,
   "metadata": {},
   "outputs": [],
   "source": [
    "layout_cell.save('IDT_library_GDS/racetrack_coupling_ref.gds', grid_steps_per_micron=1000, parallel=True)"
   ]
  }
 ],
 "metadata": {
  "kernelspec": {
   "display_name": "torch",
   "language": "python",
   "name": "python3"
  },
  "language_info": {
   "codemirror_mode": {
    "name": "ipython",
    "version": 3
   },
   "file_extension": ".py",
   "mimetype": "text/x-python",
   "name": "python",
   "nbconvert_exporter": "python",
   "pygments_lexer": "ipython3",
   "version": "3.9.13"
  }
 },
 "nbformat": 4,
 "nbformat_minor": 2
}
