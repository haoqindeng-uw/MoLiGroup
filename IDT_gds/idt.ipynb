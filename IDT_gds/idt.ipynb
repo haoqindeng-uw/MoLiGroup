{
 "cells": [
  {
   "cell_type": "code",
   "execution_count": 260,
   "metadata": {},
   "outputs": [],
   "source": [
    "import numpy as np\n",
    "from math import pi\n",
    "from gdshelpers.geometry.chip import Cell\n",
    "from gdshelpers.parts.waveguide import Waveguide\n",
    "from gdshelpers.parts.coupler import GratingCoupler\n",
    "from gdshelpers.parts.resonator import RingResonator\n",
    "from gdshelpers.layout import GridLayout\n",
    "from gdshelpers.parts.marker import CrossMarker\n",
    "from gdshelpers.parts.marker import SquareMarker\n",
    "from gdshelpers.helpers.positive_resist import convert_to_positive_resist\n",
    "from gdshelpers.parts.port import Port\n",
    "from shapely.geometry import Polygon\n",
    "from shapely.affinity import scale\n",
    "from shapely.affinity import translate\n",
    "from gdshelpers.geometry import geometric_union\n",
    "from gdshelpers.helpers.under_etching import create_holes_for_under_etching\n",
    "from gdshelpers.geometry.ebl_frame_generators import raith_marker_frame\n",
    "from gdshelpers.parts.text import Text\n",
    "import CM_basic_code\n",
    "import gdshelpers.geometry\n",
    "    "
   ]
  },
  {
   "cell_type": "code",
   "execution_count": 386,
   "metadata": {},
   "outputs": [],
   "source": [
    "def make_single_idt(cell:Cell, pos=[0,0], zno=False, orientation='right', aperture=15, pair_num=50, pitch=1.6, bias=0.005, round_buffer=1, pair=False, pair_distance=0, displacement=0):\n",
    "\n",
    "    '''fingers'''\n",
    "    finger_offset = 0.75\n",
    "    top_fingers = None\n",
    "    bottom_fingers = None\n",
    "\n",
    "    finger_width = pitch/4\n",
    "    finger_len = aperture\n",
    "    finger_center_x = pos[0]- finger_width/2\n",
    "    finger_center_y = pos[1] \n",
    "\n",
    "    top_fingers = None\n",
    "    bottom_fingers = None\n",
    "\n",
    "    for i in range(pair_num * 2):\n",
    "        finger = CM_basic_code.rectangular_xywh(center_x=finger_center_x, center_y=finger_center_y, length=finger_width, width=aperture)\n",
    "        if i%2 == 0:\n",
    "            if top_fingers is None:\n",
    "                top_fingers = finger\n",
    "            else:\n",
    "                top_fingers = geometric_union([top_fingers, finger])\n",
    "        else:\n",
    "            if bottom_fingers is None:\n",
    "                bottom_fingers = finger\n",
    "            else:\n",
    "                bottom_fingers = geometric_union([bottom_fingers, finger])\n",
    "        finger_center_x = finger_center_x - pitch/2\n",
    "\n",
    "    top_fingers = translate(top_fingers, yoff=finger_offset)\n",
    "    bottom_fingers = translate(bottom_fingers, yoff=-finger_offset)\n",
    "\n",
    "    '''arms'''\n",
    "    top_arm_origin = [pos[0], pos[1] + aperture/2]\n",
    "    bottom_arm_origin = [pos[0], pos[1] - aperture/2]\n",
    "    arm_len = pitch * pair_num + pitch/2\n",
    "    arm_width = 3\n",
    "    top_arm_center_x = pos[0] - arm_len/2 +pitch/4\n",
    "    top_arm_center_y = pos[1] + aperture/2 + arm_width/2\n",
    "    top_arm = CM_basic_code.rectangular_xywh(center_x=top_arm_center_x, center_y=top_arm_center_y, length=arm_len, width=arm_width)\n",
    "\n",
    "    bottom_arm_center_x = pos[0] - arm_len/2  + pitch/4\n",
    "    bottom_arm_center_y = pos[1] - aperture/2 - arm_width/2\n",
    "    bottom_arm = CM_basic_code.rectangular_xywh(center_x=bottom_arm_center_x, center_y=bottom_arm_center_y, length=arm_len, width=arm_width)\n",
    "\n",
    "    idt = geometric_union([top_arm, bottom_arm, top_fingers, bottom_fingers])\n",
    "\n",
    "    '''pads'''\n",
    "    pad_gap = 10\n",
    "    len_tot = 450\n",
    "\n",
    "    pad3_len = 250\n",
    "    pad3_center_x = pos[0] - arm_len - pad3_len/2 - 30\n",
    "    pad3_center_y = pos[1] + aperture/2 - 30 - pad_gap/2\n",
    "\n",
    "    pad3_width = 60 - pad_gap\n",
    "    pad3 = CM_basic_code.rectangular_xywh(center_x=pad3_center_x, center_y=pad3_center_y, length=pad3_len, width=60 - pad_gap)\n",
    "\n",
    "    pad4_width = 60 + pad_gap\n",
    "    pad4_len = 40\n",
    "    pad4_center_x = pad3_center_x - pad3_len/2 - pad_gap - pad4_len/2\n",
    "    pad4_center_y = pos[1] + aperture/2 - 30 - pad_gap/2\n",
    "    pad4 = CM_basic_code.rectangular_xywh(center_x=pad4_center_x, center_y=pad4_center_y, length=pad4_len, width=60 + pad_gap)\n",
    "\n",
    "    pad2_center_x = ((pad3_center_x + pad3_len/2) + (pos[0] + 2)) / 2\n",
    "    pad2_center_y = pos[1] - aperture/2 - 60\n",
    "    pad2_len = (pos[0] + 2) - (pad3_center_x + pad3_len/2)\n",
    "    pad2_width = 120\n",
    "    pad2 = CM_basic_code.rectangular_xywh(center_x=pad2_center_x, center_y=pad2_center_y, length=pad2_len, width=120)\n",
    "\n",
    "    pad1_center_x = (pos[0] + 2 + (pad4_center_x - pad4_len/2)) / 2\n",
    "    pad1_len = pos[0] + 2 - (pad4_center_x - pad4_len/2)\n",
    "    pad1_center_y= pos[1] + aperture/2 + 60\n",
    "    pad1 = CM_basic_code.rectangular_xywh(center_x=pad1_center_x, center_y=pad1_center_y, length=pad1_len, width=120)\n",
    "\n",
    "\n",
    "    \n",
    "    pad5_center_x = (pad1_center_x - pad1_len/2  + (pad2_center_x - pad2_len/2 - pad_gap)) / 2\n",
    "    pad5_len = ((pad2_center_x - pad2_len/2 - pad_gap) - (pad1_center_x - pad1_len/2))\n",
    "    print(pos[1] - 120)\n",
    "    pad5_center_y = (pad3_center_y - pad3_width/2 - pad_gap + (pos[1] - aperture/2 - 120)) / 2\n",
    "    print(pad3_center_y)\n",
    "    print(pad5_center_y)\n",
    "    pad5_width = pad3_center_y - pad3_width/2 - pad_gap - (pad2_center_y - pad2_width/2)\n",
    "    pad5 = CM_basic_code.rectangular_xywh(center_x=pad5_center_x, center_y=pad5_center_y, length=pad5_len, width=pad5_width)\n",
    "\n",
    "    pads = geometric_union([pad1, pad2, pad3, pad4, pad5])\n",
    "\n",
    "    cell.add_to_layer(3, idt)\n",
    "    cell.add_to_layer(4, pads)\n",
    "\n",
    "    if pair is True:\n",
    "        mirror_center_x = pos[0] + pair_distance/2\n",
    "        pads_mirror = scale(pads, xfact=-1.0, origin=(mirror_center_x, 0))\n",
    "        idt_mirror = scale(idt, xfact=-1.0, origin=(mirror_center_x, 0))\n",
    "        pads_mirror = translate(pads_mirror, yoff=displacement)\n",
    "        idt_mirror = translate(idt_mirror, yoff=displacement)\n",
    "        # pads_mirror = translate(pads_mirror, xoff=300)\n",
    "        cell.add_to_layer(3, idt_mirror)\n",
    "        cell.add_to_layer(4, pads_mirror)\n",
    "\n",
    "    return cell"
   ]
  },
  {
   "cell_type": "code",
   "execution_count": 387,
   "metadata": {},
   "outputs": [
    {
     "name": "stdout",
     "output_type": "stream",
     "text": [
      "-120\n",
      "-27.5\n",
      "-95.0\n"
     ]
    },
    {
     "data": {
      "image/png": "[encoded data removed]",
      "text/plain": [
       "<Figure size 432x288 with 1 Axes>"
      ]
     },
     "metadata": {
      "needs_background": "light"
     },
     "output_type": "display_data"
    }
   ],
   "source": [
    "cell = Cell('IDT')\n",
    "cell = make_single_idt(cell, pos=[0, 0], pair=True, pair_distance=200, displacement=50, aperture=15, pitch=0.4)\n",
    "cell.show()"
   ]
  },
  {
   "cell_type": "code",
   "execution_count": 388,
   "metadata": {},
   "outputs": [],
   "source": [
    "cell.save('new_idt.gds')"
   ]
  },
  {
   "cell_type": "code",
   "execution_count": null,
   "metadata": {},
   "outputs": [],
   "source": []
  },
  {
   "cell_type": "code",
   "execution_count": null,
   "metadata": {},
   "outputs": [],
   "source": []
  }
 ],
 "metadata": {
  "kernelspec": {
   "display_name": "torch2",
   "language": "python",
   "name": "python3"
  },
  "language_info": {
   "codemirror_mode": {
    "name": "ipython",
    "version": 3
   },
   "file_extension": ".py",
   "mimetype": "text/x-python",
   "name": "python",
   "nbconvert_exporter": "python",
   "pygments_lexer": "ipython3",
   "version": "3.6.13"
  }
 },
 "nbformat": 4,
 "nbformat_minor": 2
}
