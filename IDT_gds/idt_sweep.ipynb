{
 "cells": [
  {
   "cell_type": "code",
   "execution_count": 61,
   "metadata": {},
   "outputs": [],
   "source": [
    "import importlib\n",
    "import draw_idt\n",
    "importlib.reload(draw_idt)\n",
    "from draw_idt import make_idt\n",
    "\n",
    "import numpy as np\n",
    "from math import pi\n",
    "from math import pi\n",
    "from gdshelpers.geometry.chip import Cell\n",
    "\n",
    "from gdshelpers.geometry import geometric_union"
   ]
  },
  {
   "cell_type": "markdown",
   "metadata": {},
   "source": [
    "### **Make a single IDT**\n",
    "\n",
    "pos specifies the port coordinate of IDT, which can be used as waveguide port coordinate.\n",
    "\n",
    "To make a single IDT, set pair=False. pair_distance and displacement_y don't matter when pair=False.\n",
    "\n",
    "aperture, pair_num, pitch, finger_bias are parameters for IDT geometry; orientation can be 'left' or 'right'."
   ]
  },
  {
   "cell_type": "code",
   "execution_count": 3,
   "metadata": {},
   "outputs": [
    {
     "name": "stdout",
     "output_type": "stream",
     "text": [
      "port coordinate:  [-100, 100]\n"
     ]
    },
    {
     "name": "stderr",
     "output_type": "stream",
     "text": [
      "/opt/miniconda3/envs/torch/lib/python3.9/site-packages/descartes/patch.py:62: ShapelyDeprecationWarning: The array interface is deprecated and will no longer work in Shapely 2.0. Convert the '.coords' to a numpy array instead.\n",
      "  vertices = concatenate([\n",
      "/opt/miniconda3/envs/torch/lib/python3.9/site-packages/descartes/patch.py:46: ShapelyDeprecationWarning: Iteration over multi-part geometries is deprecated and will be removed in Shapely 2.0. Use the `geoms` property to access the constituent parts of a multi-part geometry.\n",
      "  polygon = [Polygon(p) for p in polygon]\n"
     ]
    },
    {
     "data": {
      "image/png": "[encoded data removed]",
      "text/plain": [
       "<Figure size 640x480 with 1 Axes>"
      ]
     },
     "metadata": {},
     "output_type": "display_data"
    }
   ],
   "source": [
    "cell1 = Cell('IDT')\n",
    "_, idt, pads, zno, port = make_idt(pos=[-100, 100], pair=False,\n",
    "                        aperture=15, pair_num=50, pitch=2.4, finger_bias=0.01,\n",
    "                        zno=True, orientation='right', pair_distance=200, displacement_y=50)\n",
    "\n",
    "cell1.add_to_layer(2, geometric_union([zno]))\n",
    "cell1.add_to_layer(3, geometric_union([idt]))\n",
    "cell1.add_to_layer(4, geometric_union([pads]))\n",
    "print('port coordinate: ', port)\n",
    "cell1.show()"
   ]
  },
  {
   "cell_type": "markdown",
   "metadata": {},
   "source": [
    "### **Make an IDT pair**\n",
    "\n",
    "pos specifies the left-port coordinate of IDT, which can be used as waveguide port coordinate.\n",
    "\n",
    "To make an IDT pair, set pair=False; pair_distance is the x distance between two IDTs; displacement_y is the y displacment between two IDTs.\n",
    "\n",
    "aperture, pair_num, pitch, finger_bias are parameters for IDT geometry; orientation does not matter when pair=False.\n",
    "\n",
    "Both the left-port and right-port coordinates are returned."
   ]
  },
  {
   "cell_type": "code",
   "execution_count": 4,
   "metadata": {},
   "outputs": [
    {
     "name": "stdout",
     "output_type": "stream",
     "text": [
      "left port coordinate:  [-100, 100]\n",
      "right port coordinate:  [100, 200]\n"
     ]
    },
    {
     "data": {
      "image/png": "[encoded data removed]",
      "text/plain": [
       "<Figure size 640x480 with 1 Axes>"
      ]
     },
     "metadata": {},
     "output_type": "display_data"
    }
   ],
   "source": [
    "cell2 = Cell('IDT')\n",
    "_, \\\n",
    "idt_left, idt_right, \\\n",
    "pads_left, pads_right, \\\n",
    "zno_left, zno_right, \\\n",
    "port_left, port_right = make_idt(pos=[-100, 100], pair=True,\n",
    "                        aperture=15, pair_num=50, pitch=2.4, finger_bias=0.01,\n",
    "                        zno=True, orientation='right', pair_distance=200, displacement_y=100)\n",
    "\n",
    "cell2.add_to_layer(2, geometric_union([zno_left, zno_right]))\n",
    "cell2.add_to_layer(3, geometric_union([idt_left, idt_right]))\n",
    "cell2.add_to_layer(4, geometric_union([pads_left, pads_right]))\n",
    "print('left port coordinate: ', port_left)\n",
    "print('right port coordinate: ', port_right)\n",
    "cell2.show()"
   ]
  },
  {
   "cell_type": "code",
   "execution_count": 6,
   "metadata": {},
   "outputs": [
    {
     "name": "stderr",
     "output_type": "stream",
     "text": [
      "c:\\Users\\haoqi\\miniconda3\\envs\\gds2\\lib\\site-packages\\gdshelpers\\geometry\\shapely_adapter.py:117: ShapelyDeprecationWarning: Setting custom attributes on geometry objects is deprecated, and will raise an AttributeError in Shapely 2.0\n",
      "  in list(poly.interiors)])\n"
     ]
    }
   ],
   "source": [
    "cell1.save('IDT_library_GDS/IDT_new/new_idt_single.gds')\n",
    "cell2.save('IDT_library_GDS/IDT_new/new_idt_pair.gds')"
   ]
  },
  {
   "cell_type": "markdown",
   "metadata": {},
   "source": [
    "### **The rounding of corners**\n",
    "\n",
    "Rounding can be performed in KLayout. Hide all layers expect for the pads layer, select all the pads, click Edit-->Selection-->Round Corners, set both outer and inner corner to be 2. \n",
    "\n",
    "P.S. gdshelper doesn not support inner corner rounding."
   ]
  },
  {
   "cell_type": "markdown",
   "metadata": {},
   "source": [
    "### **Sweep IDT pair_num**\n",
    "\n",
    "By default, cell parameter is set to none. If cell is not specified, only polygons will be returned. If cell is specified like below, polygons will be automatically written into the cell object, in addition to being returned.|"
   ]
  },
  {
   "cell_type": "code",
   "execution_count": 49,
   "metadata": {},
   "outputs": [
    {
     "ename": "ValueError",
     "evalue": "too many values to unpack (expected 5)",
     "output_type": "error",
     "traceback": [
      "\u001b[0;31m---------------------------------------------------------------------------\u001b[0m",
      "\u001b[0;31mValueError\u001b[0m                                Traceback (most recent call last)",
      "Cell \u001b[0;32mIn [49], line 7\u001b[0m\n\u001b[1;32m      4\u001b[0m cell\u001b[38;5;241m=\u001b[39mCell(\u001b[38;5;124m'\u001b[39m\u001b[38;5;124mIDT_SWP\u001b[39m\u001b[38;5;124m'\u001b[39m)\n\u001b[1;32m      6\u001b[0m \u001b[38;5;28;01mfor\u001b[39;00m pair_num \u001b[38;5;129;01min\u001b[39;00m pair_num_list:\n\u001b[0;32m----> 7\u001b[0m     cell, idt, pads, zno, port \u001b[38;5;241m=\u001b[39m make_idt(cell\u001b[38;5;241m=\u001b[39mcell, pos\u001b[38;5;241m=\u001b[39m[pos_x, pos_y], pair\u001b[38;5;241m=\u001b[39m\u001b[38;5;28;01mTrue\u001b[39;00m,\n\u001b[1;32m      8\u001b[0m                                 aperture\u001b[38;5;241m=\u001b[39m\u001b[38;5;241m15\u001b[39m, pair_num\u001b[38;5;241m=\u001b[39mpair_num, pitch\u001b[38;5;241m=\u001b[39m\u001b[38;5;241m0.4\u001b[39m, finger_bias\u001b[38;5;241m=\u001b[39m\u001b[38;5;241m0.01\u001b[39m,\n\u001b[1;32m      9\u001b[0m                                 zno\u001b[38;5;241m=\u001b[39m\u001b[38;5;28;01mFalse\u001b[39;00m, orientation\u001b[38;5;241m=\u001b[39m\u001b[38;5;124m'\u001b[39m\u001b[38;5;124mright\u001b[39m\u001b[38;5;124m'\u001b[39m, pair_distance\u001b[38;5;241m=\u001b[39m\u001b[38;5;241m700\u001b[39m)\n\u001b[1;32m     10\u001b[0m     pos_y \u001b[38;5;241m+\u001b[39m\u001b[38;5;241m=\u001b[39m \u001b[38;5;241m300\u001b[39m\n\u001b[1;32m     12\u001b[0m cell\u001b[38;5;241m.\u001b[39mshow()\n",
      "\u001b[0;31mValueError\u001b[0m: too many values to unpack (expected 5)"
     ]
    }
   ],
   "source": [
    "pair_num_list = [20, 30, 40, 50, 60, 70, 80, 90, 100, 120, 140, 160]\n",
    "pos_x = 0\n",
    "pos_y = 0\n",
    "cell=Cell('IDT_SWP')\n",
    "\n",
    "for pair_num in pair_num_list:\n",
    "    cell, idt, pads, zno, port = make_idt(cell=cell, pos=[pos_x, pos_y], pair=True,\n",
    "                                aperture=15, pair_num=pair_num, pitch=0.4, finger_bias=0.01,\n",
    "                                zno=False, orientation='right', pair_distance=700)\n",
    "    pos_y += 300\n",
    "\n",
    "cell.show()"
   ]
  },
  {
   "cell_type": "code",
   "execution_count": 8,
   "metadata": {},
   "outputs": [],
   "source": [
    "cell.save('IDT_library_GDS/IDT_new/new_idt_sweep.gds')"
   ]
  },
  {
   "cell_type": "code",
   "execution_count": 62,
   "metadata": {},
   "outputs": [
    {
     "data": {
      "image/png": "[encoded data removed]",
      "text/plain": [
       "<Figure size 640x480 with 1 Axes>"
      ]
     },
     "metadata": {},
     "output_type": "display_data"
    }
   ],
   "source": [
    "pair_num_list = [20, 40, 60, 80]\n",
    "pos_x = 0\n",
    "pos_y = 0\n",
    "cell=Cell('IDT_SWP')\n",
    "\n",
    "for pair_num in pair_num_list:\n",
    "    _, \\\n",
    "    idt_left, idt_right, \\\n",
    "    pads_left, pads_right, \\\n",
    "    zno_left, zno_right, \\\n",
    "    port_left, port_right = make_idt(cell=cell, pos=[pos_x, pos_y], pair=True,\n",
    "                                aperture=15, pair_num=pair_num, pitch=0.4, finger_bias=0.01,\n",
    "                                zno=False, orientation='right', pair_distance=500)\n",
    "    pos_y += 300\n",
    "\n",
    "cell.add_to_layer(3, geometric_union([idt_left, idt_right]))\n",
    "cell.add_to_layer(4, geometric_union([pads_left, pads_right]))\n",
    "\n",
    "cell.show()"
   ]
  },
  {
   "cell_type": "code",
   "execution_count": 63,
   "metadata": {},
   "outputs": [],
   "source": [
    "cell.save('IDT_library_GDS/IDT_new/LNOS_idt_dt.gds')"
   ]
  },
  {
   "cell_type": "code",
   "execution_count": null,
   "metadata": {},
   "outputs": [],
   "source": []
  }
 ],
 "metadata": {
  "kernelspec": {
   "display_name": "torch2",
   "language": "python",
   "name": "python3"
  },
  "language_info": {
   "codemirror_mode": {
    "name": "ipython",
    "version": 3
   },
   "file_extension": ".py",
   "mimetype": "text/x-python",
   "name": "python",
   "nbconvert_exporter": "python",
   "pygments_lexer": "ipython3",
   "version": "3.9.13"
  }
 },
 "nbformat": 4,
 "nbformat_minor": 2
}
