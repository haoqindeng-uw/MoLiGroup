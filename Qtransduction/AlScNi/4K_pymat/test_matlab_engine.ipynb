{
 "cells": [
  {
   "cell_type": "code",
   "execution_count": 1,
   "metadata": {},
   "outputs": [],
   "source": [
    "import matlab.engine\n",
    "import numpy as np\n",
    "eng = matlab.engine.start_matlab()"
   ]
  },
  {
   "cell_type": "code",
   "execution_count": 2,
   "metadata": {},
   "outputs": [
    {
     "name": "stdout",
     "output_type": "stream",
     "text": [
      "[[(4+4j),(6-2j)]]\n",
      "[[6j,(8-8j)]]\n",
      "<class 'matlab.double'>\n",
      "<class 'matlab.double'>\n",
      "[[4.+4.j 6.-2.j]]\n",
      "<class 'numpy.ndarray'>\n"
     ]
    }
   ],
   "source": [
    "x = [1 + 1j, 2-2j]\n",
    "y = [3+3j, 4]\n",
    "x = matlab.double(x, is_complex=True)\n",
    "y = matlab.double(y, is_complex=True)\n",
    "a, b = eng.test_func1(x, y, nargout=2)\n",
    "print(a)\n",
    "print(b)\n",
    "print(type(a))\n",
    "print(type(b))\n",
    "a = np.asarray(a)\n",
    "print(a)\n",
    "print(type(a))"
   ]
  },
  {
   "cell_type": "code",
   "execution_count": 10,
   "metadata": {},
   "outputs": [
    {
     "name": "stdout",
     "output_type": "stream",
     "text": [
      "(20001,)\n",
      "(20001,)\n",
      "[ 0.9821787+0.01728731j  0.9744478+0.02562485j  0.9932528+0.00710198j ...\n",
      " -0.9782794+0.3077671j  -0.9778312+0.3057503j  -0.9774474+0.3019497j ]\n"
     ]
    }
   ],
   "source": [
    "s11, freq = eng.load_prn('4K-2-S11-pol.prn', nargout=2)\n",
    "s11 = np.squeeze(np.asarray(s11))\n",
    "freq = np.squeeze(np.asarray(freq))\n",
    "print(s11.shape)\n",
    "print(freq.shape)\n",
    "print(s11)"
   ]
  },
  {
   "cell_type": "code",
   "execution_count": 35,
   "metadata": {},
   "outputs": [
    {
     "name": "stdout",
     "output_type": "stream",
     "text": [
      "B0.s2p\n",
      "\n",
      "N =\n",
      "\n",
      "     1\n",
      "\n",
      "\n",
      "Local minimum possible.\n",
      "\n",
      "lsqcurvefit stopped because the final change in the sum of squares relative to \n",
      "its initial value is less than the value of the function tolerance.\n",
      "\n",
      "\n",
      "ans =\n",
      "\n",
      "    'Rs = 4.7303 ohm, Ls = 1.7877 nH, Rl = 12239.996 ohm, Cl = 0.00073991 nF'\n",
      "\n",
      "\n",
      "Local minimum possible.\n",
      "lsqcurvefit stopped because the size of the current step is less than\n",
      "the value of the step size tolerance.\n",
      "\n",
      "\n",
      "ans =\n",
      "\n",
      "    'Rm = 3849.8025 ohm, Lm = 54220.2433 nH, Cm = 2.2368e-08 nF'\n",
      "\n",
      "4.730320931340895\n"
     ]
    }
   ],
   "source": [
    "Rs, Ls, Rl, Ce, Rm, Cm, Lm = eng.S11_Fitting_RLC('B0.s2p', nargout=7)\n",
    "print(Rs)"
   ]
  }
 ],
 "metadata": {
  "kernelspec": {
   "display_name": "torch",
   "language": "python",
   "name": "python3"
  },
  "language_info": {
   "codemirror_mode": {
    "name": "ipython",
    "version": 3
   },
   "file_extension": ".py",
   "mimetype": "text/x-python",
   "name": "python",
   "nbconvert_exporter": "python",
   "pygments_lexer": "ipython3",
   "version": "3.9.13"
  }
 },
 "nbformat": 4,
 "nbformat_minor": 2
}
