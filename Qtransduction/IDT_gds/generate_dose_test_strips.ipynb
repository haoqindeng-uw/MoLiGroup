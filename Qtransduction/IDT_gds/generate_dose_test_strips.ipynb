{
 "cells": [
  {
   "cell_type": "code",
   "execution_count": 15,
   "metadata": {},
   "outputs": [
    {
     "data": {
      "text/plain": [
       "<module 'aco_components' from '/Users/haoqindeng/Desktop/Qtransduction/IDT_gds/aco_components.py'>"
      ]
     },
     "execution_count": 15,
     "metadata": {},
     "output_type": "execute_result"
    }
   ],
   "source": [
    "import numpy as np\n",
    "from math import pi\n",
    "from gdshelpers.geometry.chip import Cell\n",
    "from gdshelpers.parts.waveguide import Waveguide\n",
    "from gdshelpers.parts.coupler import GratingCoupler\n",
    "from gdshelpers.parts.resonator import RingResonator\n",
    "from gdshelpers.parts.splitter import Splitter\n",
    "from gdshelpers.layout import GridLayout\n",
    "from gdshelpers.parts.marker import CrossMarker\n",
    "from gdshelpers.parts.marker import SquareMarker\n",
    "from gdshelpers.helpers.positive_resist import convert_to_positive_resist\n",
    "from gdshelpers.parts.port import Port\n",
    "from shapely.geometry import Polygon\n",
    "from shapely.affinity import scale\n",
    "from shapely.affinity import translate\n",
    "from shapely.affinity import rotate\n",
    "from gdshelpers.geometry import geometric_union\n",
    "from gdshelpers.helpers.under_etching import create_holes_for_under_etching\n",
    "from gdshelpers.geometry.ebl_frame_generators import raith_marker_frame\n",
    "from gdshelpers.parts.text import Text\n",
    "from shapely.geometry import Point\n",
    "import importlib\n",
    "import CM_basic_code\n",
    "importlib.reload(CM_basic_code)\n",
    "import aco_components\n",
    "importlib.reload(aco_components)"
   ]
  },
  {
   "cell_type": "code",
   "execution_count": 14,
   "metadata": {},
   "outputs": [
    {
     "name": "stdout",
     "output_type": "stream",
     "text": [
      "debug out pos:  [2100, 0]\n",
      "shift 2:  40.0\n",
      "debug shift:  0 40.0 4.0\n",
      "specifically debug arm1-2:  [(-36.0, 4.5), (-36.0, -0.5), (54.0, -0.5), (54.0, 4.5)]\n",
      "pad coordinates:  40.0 342.0 120 120 302.0 4.5 40.0 4.5\n",
      "[(-1014.0, -8), (-1014.0, -3), (-1094.0, -3), (-1094.0, -8)]\n",
      "[(-1014.0, 4.5), (-1014.0, -0.5), (-1094.0, -0.5), (-1094.0, 4.5)]\n",
      "[(-36.0, -8), (-36.0, -3), (54.0, -3), (54.0, -8)]\n",
      "[(-36.0, 4.5), (-36.0, -0.5), (54.0, -0.5), (54.0, 4.5)]\n",
      "outer corner coordinates:  [(40.0, 120), (342.0, 120), (342.0, -216.5), (12.0, -216.5), (12.0, -75.5), (302.0, -75.5), (302.0, 4.5), (40.0, 4.5)]\n",
      "debug out pos:  [2100, 500]\n",
      "shift 2:  40.0\n",
      "debug shift:  0 40.0 4.0\n",
      "specifically debug arm1-2:  [(-36.0, 7.5), (-36.0, 2.5), (54.0, 2.5), (54.0, 7.5)]\n",
      "pad coordinates:  40.0 342.0 120 120 302.0 4.5 40.0 4.5\n",
      "[(-1014.0, -8), (-1014.0, -3), (-1094.0, -3), (-1094.0, -8)]\n",
      "[(-1014.0, 7.5), (-1014.0, 2.5), (-1094.0, 2.5), (-1094.0, 7.5)]\n",
      "[(-36.0, -8), (-36.0, -3), (54.0, -3), (54.0, -8)]\n",
      "[(-36.0, 7.5), (-36.0, 2.5), (54.0, 2.5), (54.0, 7.5)]\n",
      "outer corner coordinates:  [(40.0, 120), (342.0, 120), (342.0, -216.5), (12.0, -216.5), (12.0, -75.5), (302.0, -75.5), (302.0, 4.5), (40.0, 4.5)]\n",
      "debug out pos:  [2100, 1000]\n",
      "shift 2:  40.0\n",
      "debug shift:  0 40.0 4.0\n",
      "specifically debug arm1-2:  [(-36.0, 12.5), (-36.0, 7.5), (54.0, 7.5), (54.0, 12.5)]\n",
      "pad coordinates:  40.0 342.0 120 120 302.0 4.5 40.0 4.5\n",
      "[(-1014.0, -8), (-1014.0, -3), (-1094.0, -3), (-1094.0, -8)]\n",
      "[(-1014.0, 12.5), (-1014.0, 7.5), (-1094.0, 7.5), (-1094.0, 12.5)]\n",
      "[(-36.0, -8), (-36.0, -3), (54.0, -3), (54.0, -8)]\n",
      "[(-36.0, 12.5), (-36.0, 7.5), (54.0, 7.5), (54.0, 12.5)]\n",
      "outer corner coordinates:  [(40.0, 120), (342.0, 120), (342.0, -216.5), (12.0, -216.5), (12.0, -75.5), (302.0, -75.5), (302.0, 4.5), (40.0, 4.5)]\n",
      "debug out pos:  [2100, 1500]\n",
      "shift 2:  40.0\n",
      "debug shift:  0 40.0 4.0\n",
      "specifically debug arm1-2:  [(-36.0, 17.5), (-36.0, 12.5), (54.0, 12.5), (54.0, 17.5)]\n",
      "pad coordinates:  40.0 342.0 120 120 302.0 4.5 40.0 4.5\n",
      "[(-1014.0, -8), (-1014.0, -3), (-1094.0, -3), (-1094.0, -8)]\n",
      "[(-1014.0, 17.5), (-1014.0, 12.5), (-1094.0, 12.5), (-1094.0, 17.5)]\n",
      "[(-36.0, -8), (-36.0, -3), (54.0, -3), (54.0, -8)]\n",
      "[(-36.0, 17.5), (-36.0, 12.5), (54.0, 12.5), (54.0, 17.5)]\n",
      "outer corner coordinates:  [(40.0, 120), (342.0, 120), (342.0, -216.5), (12.0, -216.5), (12.0, -75.5), (302.0, -75.5), (302.0, 4.5), (40.0, 4.5)]\n",
      "debug out pos:  [2100, 2000]\n",
      "shift 2:  40.0\n",
      "debug shift:  0 40.0 4.0\n",
      "specifically debug arm1-2:  [(-36.0, 32.5), (-36.0, 27.5), (54.0, 27.5), (54.0, 32.5)]\n",
      "pad coordinates:  40.0 342.0 120 120 302.0 4.5 40.0 4.5\n",
      "[(-1014.0, -8), (-1014.0, -3), (-1094.0, -3), (-1094.0, -8)]\n",
      "[(-1014.0, 32.5), (-1014.0, 27.5), (-1094.0, 27.5), (-1094.0, 32.5)]\n",
      "[(-36.0, -8), (-36.0, -3), (54.0, -3), (54.0, -8)]\n",
      "[(-36.0, 32.5), (-36.0, 27.5), (54.0, 27.5), (54.0, 32.5)]\n",
      "outer corner coordinates:  [(40.0, 120), (342.0, 120), (342.0, -216.5), (12.0, -216.5), (12.0, -75.5), (302.0, -75.5), (302.0, 4.5), (40.0, 4.5)]\n"
     ]
    },
    {
     "data": {
      "image/png": "[encoded data removed]",
      "text/plain": [
       "<Figure size 640x480 with 1 Axes>"
      ]
     },
     "metadata": {},
     "output_type": "display_data"
    }
   ],
   "source": [
    "cell = Cell('IDT_dt')\n",
    "prop_len = 400\n",
    "aperture_size_list = [30, 50, 75, 100] # first chip\n",
    "aperture_size_list = [30, 15, 10, 5, 2] # second chip\n",
    "aperture_size_list = [5, 10, 15, 30]\n",
    "# number_of_pairs_list = [20, 50, 100, 200, 300]\n",
    "number_of_pairs_list = [30, 40, 50, 60, 80, 100, 125, 150, 175, 200, 225, 250, 275, 300, 325, 350, 375, 400]\n",
    "number_of_pairs_list = [60]\n",
    "\n",
    "for i in range(len(aperture_size_list)):\n",
    "    for j in range(len(number_of_pairs_list)):\n",
    "        number_of_pairs = number_of_pairs_list[j]\n",
    "        IDT_Aperature = aperture_size_list[i]\n",
    "        pos_x = j * 500 + number_of_pairs * 35\n",
    "        pos_y = i * 500\n",
    "        # pos_x = 0\n",
    "        # pos_y = 0\n",
    "        print('debug out pos: ', [pos_x, pos_y])\n",
    "        cell = aco_components.make_dosetest_IDT(cell, prop_len=prop_len, number_of_pairs=number_of_pairs, IDT_Aperature=IDT_Aperature, wg_width=1.2, translation_offset=[pos_x,pos_y])\n",
    "\n",
    "# cell = aco_components.make_single_IDT(cell, prop_len=prop_len, number_of_pairs=20, IDT_Aperature=40, wg_width=1.2, translation_offset=[0,0])\n",
    "# cell = aco_components.make_single_IDT(cell, prop_len=prop_len, number_of_pairs=300, IDT_Aperature=40, wg_width=1.2, translation_offset=[0,500])\n",
    "# cell.show()\n",
    "# cell.save('IDT_library_GDS/IDT_sweep/IDT_sweep_v7.gds')\n",
    "cell.show()\n",
    "cell.save('IDT_library_GDS/DT/dost_test_IDT_a5.gds')"
   ]
  },
  {
   "cell_type": "code",
   "execution_count": 3,
   "metadata": {},
   "outputs": [
    {
     "ename": "NameError",
     "evalue": "name 'dt_strips' is not defined",
     "output_type": "error",
     "traceback": [
      "\u001b[0;31m---------------------------------------------------------------------------\u001b[0m",
      "\u001b[0;31mNameError\u001b[0m                                 Traceback (most recent call last)",
      "Cell \u001b[0;32mIn [3], line 6\u001b[0m\n\u001b[1;32m      4\u001b[0m center_y \u001b[38;5;241m=\u001b[39m \u001b[38;5;241m0\u001b[39m\n\u001b[1;32m      5\u001b[0m \u001b[38;5;28;01mfor\u001b[39;00m width \u001b[38;5;129;01min\u001b[39;00m width_list:\n\u001b[0;32m----> 6\u001b[0m     cell \u001b[38;5;241m=\u001b[39m \u001b[43mdt_strips\u001b[49m(center_x\u001b[38;5;241m=\u001b[39m\u001b[38;5;241m0\u001b[39m, center_y\u001b[38;5;241m=\u001b[39mcenter_y, length\u001b[38;5;241m=\u001b[39m\u001b[38;5;241m30\u001b[39m, start_width\u001b[38;5;241m=\u001b[39mwidth, width_step_size\u001b[38;5;241m=\u001b[39m\u001b[38;5;241m0\u001b[39m, width_step_num\u001b[38;5;241m=\u001b[39m\u001b[38;5;241m3\u001b[39m,\n\u001b[1;32m      7\u001b[0m                  cell\u001b[38;5;241m=\u001b[39mcell, cell_name\u001b[38;5;241m=\u001b[39m\u001b[38;5;124m'\u001b[39m\u001b[38;5;124mDummy\u001b[39m\u001b[38;5;124m'\u001b[39m)\n\u001b[1;32m      8\u001b[0m     center_y \u001b[38;5;241m+\u001b[39m\u001b[38;5;241m=\u001b[39m width \u001b[38;5;241m*\u001b[39m \u001b[38;5;241m10\u001b[39m\n\u001b[1;32m     10\u001b[0m cell\u001b[38;5;241m.\u001b[39madd_to_layer(\u001b[38;5;241m2\u001b[39m, CM_basic_code\u001b[38;5;241m.\u001b[39mrectangular_xywh(center_x\u001b[38;5;241m=\u001b[39m\u001b[38;5;241m70\u001b[39m, center_y\u001b[38;5;241m=\u001b[39m\u001b[38;5;241m45\u001b[39m, length\u001b[38;5;241m=\u001b[39m\u001b[38;5;241m90\u001b[39m, width\u001b[38;5;241m=\u001b[39m\u001b[38;5;241m90\u001b[39m))\n",
      "\u001b[0;31mNameError\u001b[0m: name 'dt_strips' is not defined"
     ]
    }
   ],
   "source": [
    "cell = Cell('PCM_DT')\n",
    "width_list = [0.1, 0.15, 0.2, 0.25, 0.3, 0.35, 0.4, 0.5, 0.55, 0.6, 0.65, 0.7, 0.8, 1.0, 1.2, 1.4]\n",
    "# width_list = [0.2]\n",
    "center_y = 0\n",
    "for width in width_list:\n",
    "    cell = dt_strips(center_x=0, center_y=center_y, length=30, start_width=width, width_step_size=0, width_step_num=3,\n",
    "                 cell=cell, cell_name='Dummy')\n",
    "    center_y += width * 10\n",
    "\n",
    "cell.add_to_layer(2, CM_basic_code.rectangular_xywh(center_x=70, center_y=45, length=90, width=90))\n",
    "\n",
    "cell.save('PCM/double_layer_DT.gds')\n",
    "\n"
   ]
  },
  {
   "cell_type": "code",
   "execution_count": 5,
   "metadata": {},
   "outputs": [
    {
     "name": "stderr",
     "output_type": "stream",
     "text": [
      "/opt/miniconda3/envs/torch/lib/python3.9/site-packages/descartes/patch.py:46: ShapelyDeprecationWarning: Iteration over multi-part geometries is deprecated and will be removed in Shapely 2.0. Use the `geoms` property to access the constituent parts of a multi-part geometry.\n",
      "  polygon = [Polygon(p) for p in polygon]\n",
      "/opt/miniconda3/envs/torch/lib/python3.9/site-packages/descartes/patch.py:62: ShapelyDeprecationWarning: The array interface is deprecated and will no longer work in Shapely 2.0. Convert the '.coords' to a numpy array instead.\n",
      "  vertices = concatenate([\n"
     ]
    },
    {
     "data": {
      "image/png": "[encoded data removed]",
      "text/plain": [
       "<Figure size 640x480 with 1 Axes>"
      ]
     },
     "metadata": {},
     "output_type": "display_data"
    },
    {
     "name": "stderr",
     "output_type": "stream",
     "text": [
      "/opt/miniconda3/envs/torch/lib/python3.9/site-packages/gdshelpers/geometry/shapely_adapter.py:116: ShapelyDeprecationWarning: Setting custom attributes on geometry objects is deprecated, and will raise an AttributeError in Shapely 2.0\n",
      "  poly._gdsh_n_points = len(poly.exterior.coords) + sum([len(shapely.geometry.LinearRing(x).coords) for x\n"
     ]
    }
   ],
   "source": [
    "global_mark_params = {\n",
    "    'rectangular_dim': 100,\n",
    "    'rec_mark_spacing': 200,\n",
    "    'length': 50,\n",
    "    'width': 5,\n",
    "}\n",
    "\n",
    "cell = Cell('burn_mark')\n",
    "cell = CM_basic_code.global_mark(center_x=0, center_y=0, global_mark_params=global_mark_params, layer=1, cell_name=cell)\n",
    "cell.show()\n",
    "cell.save('PCM/double_layer_burn_mark.gds')"
   ]
  }
 ],
 "metadata": {
  "kernelspec": {
   "display_name": "torch",
   "language": "python",
   "name": "python3"
  },
  "language_info": {
   "codemirror_mode": {
    "name": "ipython",
    "version": 3
   },
   "file_extension": ".py",
   "mimetype": "text/x-python",
   "name": "python",
   "nbconvert_exporter": "python",
   "pygments_lexer": "ipython3",
   "version": "3.9.13"
  }
 },
 "nbformat": 4,
 "nbformat_minor": 2
}
