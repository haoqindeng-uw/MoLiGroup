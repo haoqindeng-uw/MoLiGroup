{
 "cells": [
  {
   "cell_type": "code",
   "execution_count": 21,
   "metadata": {},
   "outputs": [
    {
     "name": "stdout",
     "output_type": "stream",
     "text": [
      "(64001,)\n"
     ]
    }
   ],
   "source": [
    "import csv \n",
    "import numpy\n",
    "  \n",
    "with open('pow__NO_OL14012023.csv') as file_obj: \n",
    "      \n",
    "    reader_obj = csv.reader(file_obj) \n",
    "    idx = 0\n",
    "    signal = []\n",
    "    for row in reader_obj: \n",
    "        idx += 1\n",
    "        if idx < 78:\n",
    "            continue\n",
    "        else:\n",
    "            signal.append(float(row[0]))\n",
    "        \n",
    "    signal_np = numpy.array(signal)\n",
    "    print(signal_np.shape)"
   ]
  },
  {
   "cell_type": "code",
   "execution_count": null,
   "metadata": {},
   "outputs": [],
   "source": []
  }
 ],
 "metadata": {
  "kernelspec": {
   "display_name": "torch",
   "language": "python",
   "name": "python3"
  },
  "language_info": {
   "codemirror_mode": {
    "name": "ipython",
    "version": 3
   },
   "file_extension": ".py",
   "mimetype": "text/x-python",
   "name": "python",
   "nbconvert_exporter": "python",
   "pygments_lexer": "ipython3",
   "version": "3.9.13"
  }
 },
 "nbformat": 4,
 "nbformat_minor": 2
}
