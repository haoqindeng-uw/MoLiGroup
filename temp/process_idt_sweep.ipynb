{
 "cells": [
  {
   "cell_type": "code",
   "execution_count": null,
   "metadata": {},
   "outputs": [],
   "source": [
    "# Always run this block first whenever you change the bvd_library.py file, otherwise the change won't be updated to this notebook.\n",
    "import importlib\n",
    "import bvd_library\n",
    "importlib.reload(bvd_library)\n",
    "from bvd_library import *\n",
    "\n",
    "# add %matplotlib widget to make plots interactive\n",
    "%matplotlib widget\n",
    "mpl.style.use('seaborn')\n",
    "mpl.style.use('seaborn-muted')\n",
    "file_name_list = []\n",
    "for i in range(14):\n",
    "    file_name = 'left_probe/d' + str(i) + '.s2p'\n",
    "    file_name_list.append(file_name)\n",
    "print(file_name_list)\n",
    "\n",
    "db_list_left = []\n",
    "for file_name in file_name_list:\n",
    "    bvd_model = BVD_Model()\n",
    "    bvd_model.load_file(file_name, normalize=True)\n",
    "    db = np.log(np.min(np.absolute(bvd_model.s11_pol))) * 10\n",
    "    db_list_left.append(db)\n",
    "\n",
    "file_name_list = []\n",
    "for i in range(14):\n",
    "    file_name = 'right_probe/d' + str(i) + '.s2p'\n",
    "    file_name_list.append(file_name)\n",
    "print(file_name_list)\n",
    "\n",
    "db_list_right = []\n",
    "for file_name in file_name_list:\n",
    "    bvd_model = BVD_Model()\n",
    "    bvd_model.load_file(file_name, normalize=True, s_matrix='00')\n",
    "    db = np.log(np.min(np.absolute(bvd_model.s11_pol))) * 10\n",
    "    db_list_right.append(db)\n",
    "\n",
    "plt.figure()\n",
    "plt.plot(db_list_left)\n",
    "plt.plot(db_list_right)\n",
    "plt.legend(['left proble', 'right probe'])\n",
    "plt.xticks(np.arange(0, 14), ['20', '30', '40', '50', '60', '70', '80', '90', '100', '120', '140', '160', '180', '200'])\n",
    "plt.xlabel('pair_num')\n",
    "plt.ylabel('dB')"
   ]
  }
 ],
 "metadata": {
  "language_info": {
   "name": "python"
  }
 },
 "nbformat": 4,
 "nbformat_minor": 2
}
